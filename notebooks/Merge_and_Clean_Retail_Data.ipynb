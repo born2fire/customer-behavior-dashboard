{
 "cells": [
  {
   "cell_type": "code",
   "execution_count": 1,
   "id": "f65af898-5be5-4f04-b420-53ebf8a716f2",
   "metadata": {},
   "outputs": [],
   "source": [
    "# Importing pandas for data analysis\n",
    "import pandas as pd "
   ]
  },
  {
   "cell_type": "code",
   "execution_count": 2,
   "id": "dd8bfe9d-1de5-4ae1-b015-96d5bcb70a57",
   "metadata": {},
   "outputs": [],
   "source": [
    "# Defining the path to Excel file\n",
    "excel_path = r'C:\\Users\\dell\\retail_customer_dashbord\\data\\online_retail.xlsx'"
   ]
  },
  {
   "cell_type": "code",
   "execution_count": 3,
   "id": "e92fc9f1-0d63-4084-9bde-da0b46d5c79f",
   "metadata": {},
   "outputs": [],
   "source": [
    "# Load each sheet into a separate DataFrame\n",
    "df_2009 = pd.read_excel(excel_path,sheet_name = 'Year 2009-2010')\n",
    "df_2010 = pd.read_excel(excel_path,sheet_name = 'Year 2010-2011')"
   ]
  },
  {
   "cell_type": "code",
   "execution_count": 4,
   "id": "5ae8b7e6-fbdc-4af2-9491-168e53256719",
   "metadata": {},
   "outputs": [
    {
     "name": "stdout",
     "output_type": "stream",
     "text": [
      "2009-2010 Shape (525461, 8)\n"
     ]
    }
   ],
   "source": [
    "# Print shape to understand the size of sheet 1 dataset\n",
    "print(\"2009-2010 Shape\" , df_2009.shape)"
   ]
  },
  {
   "cell_type": "code",
   "execution_count": 5,
   "id": "5ba478f6-c571-4ad9-acb7-28f743dc8178",
   "metadata": {},
   "outputs": [
    {
     "name": "stdout",
     "output_type": "stream",
     "text": [
      "2010-2011 Shape (541910, 8)\n"
     ]
    }
   ],
   "source": [
    "# Print shape to understand the size of sheet 2 dataset\n",
    "print(\"2010-2011 Shape\", df_2010.shape)"
   ]
  },
  {
   "cell_type": "code",
   "execution_count": 6,
   "id": "b311d5ba-e879-413a-8867-a2d8adc93e9f",
   "metadata": {},
   "outputs": [
    {
     "data": {
      "text/html": [
       "<div>\n",
       "<style scoped>\n",
       "    .dataframe tbody tr th:only-of-type {\n",
       "        vertical-align: middle;\n",
       "    }\n",
       "\n",
       "    .dataframe tbody tr th {\n",
       "        vertical-align: top;\n",
       "    }\n",
       "\n",
       "    .dataframe thead th {\n",
       "        text-align: right;\n",
       "    }\n",
       "</style>\n",
       "<table border=\"1\" class=\"dataframe\">\n",
       "  <thead>\n",
       "    <tr style=\"text-align: right;\">\n",
       "      <th></th>\n",
       "      <th>Invoice</th>\n",
       "      <th>StockCode</th>\n",
       "      <th>Description</th>\n",
       "      <th>Quantity</th>\n",
       "      <th>InvoiceDate</th>\n",
       "      <th>Price</th>\n",
       "      <th>Customer ID</th>\n",
       "      <th>Country</th>\n",
       "    </tr>\n",
       "  </thead>\n",
       "  <tbody>\n",
       "    <tr>\n",
       "      <th>0</th>\n",
       "      <td>489434</td>\n",
       "      <td>85048</td>\n",
       "      <td>15CM CHRISTMAS GLASS BALL 20 LIGHTS</td>\n",
       "      <td>12</td>\n",
       "      <td>2009-12-01 07:45:00</td>\n",
       "      <td>6.95</td>\n",
       "      <td>13085.0</td>\n",
       "      <td>United Kingdom</td>\n",
       "    </tr>\n",
       "    <tr>\n",
       "      <th>1</th>\n",
       "      <td>489434</td>\n",
       "      <td>79323P</td>\n",
       "      <td>PINK CHERRY LIGHTS</td>\n",
       "      <td>12</td>\n",
       "      <td>2009-12-01 07:45:00</td>\n",
       "      <td>6.75</td>\n",
       "      <td>13085.0</td>\n",
       "      <td>United Kingdom</td>\n",
       "    </tr>\n",
       "    <tr>\n",
       "      <th>2</th>\n",
       "      <td>489434</td>\n",
       "      <td>79323W</td>\n",
       "      <td>WHITE CHERRY LIGHTS</td>\n",
       "      <td>12</td>\n",
       "      <td>2009-12-01 07:45:00</td>\n",
       "      <td>6.75</td>\n",
       "      <td>13085.0</td>\n",
       "      <td>United Kingdom</td>\n",
       "    </tr>\n",
       "    <tr>\n",
       "      <th>3</th>\n",
       "      <td>489434</td>\n",
       "      <td>22041</td>\n",
       "      <td>RECORD FRAME 7\" SINGLE SIZE</td>\n",
       "      <td>48</td>\n",
       "      <td>2009-12-01 07:45:00</td>\n",
       "      <td>2.10</td>\n",
       "      <td>13085.0</td>\n",
       "      <td>United Kingdom</td>\n",
       "    </tr>\n",
       "    <tr>\n",
       "      <th>4</th>\n",
       "      <td>489434</td>\n",
       "      <td>21232</td>\n",
       "      <td>STRAWBERRY CERAMIC TRINKET BOX</td>\n",
       "      <td>24</td>\n",
       "      <td>2009-12-01 07:45:00</td>\n",
       "      <td>1.25</td>\n",
       "      <td>13085.0</td>\n",
       "      <td>United Kingdom</td>\n",
       "    </tr>\n",
       "  </tbody>\n",
       "</table>\n",
       "</div>"
      ],
      "text/plain": [
       "  Invoice StockCode                          Description  Quantity  \\\n",
       "0  489434     85048  15CM CHRISTMAS GLASS BALL 20 LIGHTS        12   \n",
       "1  489434    79323P                   PINK CHERRY LIGHTS        12   \n",
       "2  489434    79323W                  WHITE CHERRY LIGHTS        12   \n",
       "3  489434     22041         RECORD FRAME 7\" SINGLE SIZE         48   \n",
       "4  489434     21232       STRAWBERRY CERAMIC TRINKET BOX        24   \n",
       "\n",
       "          InvoiceDate  Price  Customer ID         Country  \n",
       "0 2009-12-01 07:45:00   6.95      13085.0  United Kingdom  \n",
       "1 2009-12-01 07:45:00   6.75      13085.0  United Kingdom  \n",
       "2 2009-12-01 07:45:00   6.75      13085.0  United Kingdom  \n",
       "3 2009-12-01 07:45:00   2.10      13085.0  United Kingdom  \n",
       "4 2009-12-01 07:45:00   1.25      13085.0  United Kingdom  "
      ]
     },
     "execution_count": 6,
     "metadata": {},
     "output_type": "execute_result"
    }
   ],
   "source": [
    "# Preview the first few rows of one sheet to check structure\n",
    "df_2009.head()"
   ]
  },
  {
   "cell_type": "code",
   "execution_count": 7,
   "id": "243bb499-86ff-456b-962d-b0a6a4595fb8",
   "metadata": {},
   "outputs": [],
   "source": [
    "# Add a 'Year' column to each before merging (optional but useful)\n",
    "df_2009['Year'] = 2009\n",
    "df_2010['Year'] = 2010"
   ]
  },
  {
   "cell_type": "code",
   "execution_count": 8,
   "id": "f5d32c70-3eb7-4b12-8b87-47fa14371c8e",
   "metadata": {},
   "outputs": [],
   "source": [
    "# Combine both datasets into one\n",
    "df_merged = pd.concat([df_2009 , df_2010] , ignore_index = True)"
   ]
  },
  {
   "cell_type": "code",
   "execution_count": 9,
   "id": "71669b43-b9ce-43a4-b58b-27935ba0678d",
   "metadata": {},
   "outputs": [
    {
     "name": "stdout",
     "output_type": "stream",
     "text": [
      "Merged dataset shape: (1067371, 9)\n"
     ]
    }
   ],
   "source": [
    "# Show the shape and preview of the combined data\n",
    "print(\"Merged dataset shape:\" , df_merged.shape)"
   ]
  },
  {
   "cell_type": "code",
   "execution_count": 10,
   "id": "5ca515e6-c607-4389-80a3-487c6905735d",
   "metadata": {},
   "outputs": [
    {
     "data": {
      "text/html": [
       "<div>\n",
       "<style scoped>\n",
       "    .dataframe tbody tr th:only-of-type {\n",
       "        vertical-align: middle;\n",
       "    }\n",
       "\n",
       "    .dataframe tbody tr th {\n",
       "        vertical-align: top;\n",
       "    }\n",
       "\n",
       "    .dataframe thead th {\n",
       "        text-align: right;\n",
       "    }\n",
       "</style>\n",
       "<table border=\"1\" class=\"dataframe\">\n",
       "  <thead>\n",
       "    <tr style=\"text-align: right;\">\n",
       "      <th></th>\n",
       "      <th>Invoice</th>\n",
       "      <th>StockCode</th>\n",
       "      <th>Description</th>\n",
       "      <th>Quantity</th>\n",
       "      <th>InvoiceDate</th>\n",
       "      <th>Price</th>\n",
       "      <th>Customer ID</th>\n",
       "      <th>Country</th>\n",
       "      <th>Year</th>\n",
       "    </tr>\n",
       "  </thead>\n",
       "  <tbody>\n",
       "    <tr>\n",
       "      <th>0</th>\n",
       "      <td>489434</td>\n",
       "      <td>85048</td>\n",
       "      <td>15CM CHRISTMAS GLASS BALL 20 LIGHTS</td>\n",
       "      <td>12</td>\n",
       "      <td>2009-12-01 07:45:00</td>\n",
       "      <td>6.95</td>\n",
       "      <td>13085.0</td>\n",
       "      <td>United Kingdom</td>\n",
       "      <td>2009</td>\n",
       "    </tr>\n",
       "    <tr>\n",
       "      <th>1</th>\n",
       "      <td>489434</td>\n",
       "      <td>79323P</td>\n",
       "      <td>PINK CHERRY LIGHTS</td>\n",
       "      <td>12</td>\n",
       "      <td>2009-12-01 07:45:00</td>\n",
       "      <td>6.75</td>\n",
       "      <td>13085.0</td>\n",
       "      <td>United Kingdom</td>\n",
       "      <td>2009</td>\n",
       "    </tr>\n",
       "    <tr>\n",
       "      <th>2</th>\n",
       "      <td>489434</td>\n",
       "      <td>79323W</td>\n",
       "      <td>WHITE CHERRY LIGHTS</td>\n",
       "      <td>12</td>\n",
       "      <td>2009-12-01 07:45:00</td>\n",
       "      <td>6.75</td>\n",
       "      <td>13085.0</td>\n",
       "      <td>United Kingdom</td>\n",
       "      <td>2009</td>\n",
       "    </tr>\n",
       "    <tr>\n",
       "      <th>3</th>\n",
       "      <td>489434</td>\n",
       "      <td>22041</td>\n",
       "      <td>RECORD FRAME 7\" SINGLE SIZE</td>\n",
       "      <td>48</td>\n",
       "      <td>2009-12-01 07:45:00</td>\n",
       "      <td>2.10</td>\n",
       "      <td>13085.0</td>\n",
       "      <td>United Kingdom</td>\n",
       "      <td>2009</td>\n",
       "    </tr>\n",
       "    <tr>\n",
       "      <th>4</th>\n",
       "      <td>489434</td>\n",
       "      <td>21232</td>\n",
       "      <td>STRAWBERRY CERAMIC TRINKET BOX</td>\n",
       "      <td>24</td>\n",
       "      <td>2009-12-01 07:45:00</td>\n",
       "      <td>1.25</td>\n",
       "      <td>13085.0</td>\n",
       "      <td>United Kingdom</td>\n",
       "      <td>2009</td>\n",
       "    </tr>\n",
       "  </tbody>\n",
       "</table>\n",
       "</div>"
      ],
      "text/plain": [
       "  Invoice StockCode                          Description  Quantity  \\\n",
       "0  489434     85048  15CM CHRISTMAS GLASS BALL 20 LIGHTS        12   \n",
       "1  489434    79323P                   PINK CHERRY LIGHTS        12   \n",
       "2  489434    79323W                  WHITE CHERRY LIGHTS        12   \n",
       "3  489434     22041         RECORD FRAME 7\" SINGLE SIZE         48   \n",
       "4  489434     21232       STRAWBERRY CERAMIC TRINKET BOX        24   \n",
       "\n",
       "          InvoiceDate  Price  Customer ID         Country  Year  \n",
       "0 2009-12-01 07:45:00   6.95      13085.0  United Kingdom  2009  \n",
       "1 2009-12-01 07:45:00   6.75      13085.0  United Kingdom  2009  \n",
       "2 2009-12-01 07:45:00   6.75      13085.0  United Kingdom  2009  \n",
       "3 2009-12-01 07:45:00   2.10      13085.0  United Kingdom  2009  \n",
       "4 2009-12-01 07:45:00   1.25      13085.0  United Kingdom  2009  "
      ]
     },
     "execution_count": 10,
     "metadata": {},
     "output_type": "execute_result"
    }
   ],
   "source": [
    "df_merged.head()"
   ]
  },
  {
   "cell_type": "code",
   "execution_count": 13,
   "id": "de376a61-b7ad-4c31-96e9-f6eced1e9376",
   "metadata": {},
   "outputs": [],
   "source": [
    "# Remove rows with missing CustomerID or Description\n",
    "df_cleaned = df_merged.dropna(subset=['Customer ID','Description'])"
   ]
  },
  {
   "cell_type": "code",
   "execution_count": 14,
   "id": "d74fd6ac-3e14-42a0-bcc0-7651ffa51ffd",
   "metadata": {},
   "outputs": [],
   "source": [
    "# Remove canceled orders (InvoiceNo starting with 'C')\n",
    "df_cleaned = df_cleaned[~df_cleaned['Invoice'].astype(str).str.startswith('C')]"
   ]
  },
  {
   "cell_type": "code",
   "execution_count": 15,
   "id": "b6b6d58e-5677-4cf3-934d-a8ce2cff9dcc",
   "metadata": {},
   "outputs": [],
   "source": [
    "# Remove negative or zero Quantity and UnitPrice\n",
    "df_cleaned = df_cleaned[(df_cleaned['Quantity'] > 0) & (df_cleaned['Price'] > 0)]"
   ]
  },
  {
   "cell_type": "code",
   "execution_count": 16,
   "id": "a2b0c7d3-502a-48c8-93f9-56ecb94c9e7f",
   "metadata": {},
   "outputs": [],
   "source": [
    "# Convert InvoiceDate to datetime\n",
    "df_cleaned['InvoiceDate'] = pd.to_datetime(df_cleaned['InvoiceDate'])"
   ]
  },
  {
   "cell_type": "code",
   "execution_count": 17,
   "id": "e1edb492-ebdd-42b4-8236-bdeefa2c74fb",
   "metadata": {},
   "outputs": [],
   "source": [
    "# Add TotalAmount column\n",
    "df_cleaned['TotalAmount'] = df_cleaned['Quantity'] * df_cleaned['Price']"
   ]
  },
  {
   "cell_type": "code",
   "execution_count": 19,
   "id": "630d6937-40ee-48bb-83b9-ba14881345d6",
   "metadata": {},
   "outputs": [],
   "source": [
    "# Convert data types to save memory (optional but useful for big datasets)\n",
    "df_cleaned['Customer ID'] = df_cleaned['Customer ID'].astype(str)\n",
    "df_cleaned['StockCode'] = df_cleaned['StockCode'].astype(str)"
   ]
  },
  {
   "cell_type": "code",
   "execution_count": 20,
   "id": "95a901eb-036f-4514-a6c0-198d62cdd42c",
   "metadata": {},
   "outputs": [],
   "source": [
    "# Add derived time features (optional for dashboard filtering later)\n",
    "df_cleaned['Month'] = df_cleaned['InvoiceDate'].dt.month\n",
    "df_cleaned['Day'] = df_cleaned['InvoiceDate'].dt.day\n",
    "df_cleaned['Hour'] = df_cleaned['InvoiceDate'].dt.hour"
   ]
  },
  {
   "cell_type": "code",
   "execution_count": 22,
   "id": "56b7ddc7-489c-47a1-ac78-2f724262adab",
   "metadata": {},
   "outputs": [],
   "source": [
    "df_cleaned.to_csv(\"preprocessed_customer_data.csv\", index=False)"
   ]
  },
  {
   "cell_type": "code",
   "execution_count": 23,
   "id": "57fee2f1-a2fa-4893-90b9-bd2ace5b3d6a",
   "metadata": {},
   "outputs": [],
   "source": [
    "df = pd.read_csv(\"preprocessed_customer_data.csv\")"
   ]
  },
  {
   "cell_type": "code",
   "execution_count": 24,
   "id": "e0166120-cfd0-4ce3-b330-b43a1fbf514c",
   "metadata": {},
   "outputs": [
    {
     "name": "stdout",
     "output_type": "stream",
     "text": [
      "C:\\Users\\dell\\retail_customer_dashbord\\notebooks\\pre_processed.csv\n"
     ]
    }
   ],
   "source": [
    "import os\n",
    "print(os.path.abspath(\"pre_processed.csv\"))"
   ]
  },
  {
   "cell_type": "code",
   "execution_count": null,
   "id": "a9d2bf1f-0042-4c7f-a1a6-9913b70b6347",
   "metadata": {},
   "outputs": [],
   "source": []
  }
 ],
 "metadata": {
  "kernelspec": {
   "display_name": "Python 3 (ipykernel)",
   "language": "python",
   "name": "python3"
  },
  "language_info": {
   "codemirror_mode": {
    "name": "ipython",
    "version": 3
   },
   "file_extension": ".py",
   "mimetype": "text/x-python",
   "name": "python",
   "nbconvert_exporter": "python",
   "pygments_lexer": "ipython3",
   "version": "3.11.7"
  }
 },
 "nbformat": 4,
 "nbformat_minor": 5
}
